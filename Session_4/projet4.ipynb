{
 "cells": [
  {
   "cell_type": "markdown",
   "metadata": {},
   "source": [
    "# Projet 4"
   ]
  },
  {
   "cell_type": "code",
   "execution_count": 12,
   "metadata": {},
   "outputs": [
    {
     "ename": "ModuleNotFoundError",
     "evalue": "No module named 'sub_func'",
     "output_type": "error",
     "traceback": [
      "\u001B[0;31m---------------------------------------------------------------------------\u001B[0m",
      "\u001B[0;31mModuleNotFoundError\u001B[0m                       Traceback (most recent call last)",
      "\u001B[0;32m/var/folders/9f/p0t58rcj5m19q_p7696wb52w0000gp/T/ipykernel_12861/140298659.py\u001B[0m in \u001B[0;36m<module>\u001B[0;34m\u001B[0m\n\u001B[1;32m      5\u001B[0m \u001B[0;32mimport\u001B[0m \u001B[0mxml\u001B[0m\u001B[0;34m.\u001B[0m\u001B[0metree\u001B[0m\u001B[0;34m.\u001B[0m\u001B[0mElementTree\u001B[0m \u001B[0;32mas\u001B[0m \u001B[0mET\u001B[0m\u001B[0;34m\u001B[0m\u001B[0;34m\u001B[0m\u001B[0m\n\u001B[1;32m      6\u001B[0m \u001B[0;32mfrom\u001B[0m \u001B[0mmultiprocessing\u001B[0m \u001B[0;32mimport\u001B[0m \u001B[0mPool\u001B[0m\u001B[0;34m\u001B[0m\u001B[0;34m\u001B[0m\u001B[0m\n\u001B[0;32m----> 7\u001B[0;31m \u001B[0;32mimport\u001B[0m \u001B[0msub_func\u001B[0m\u001B[0;34m\u001B[0m\u001B[0;34m\u001B[0m\u001B[0m\n\u001B[0m\u001B[1;32m      8\u001B[0m \u001B[0;34m\u001B[0m\u001B[0m\n\u001B[1;32m      9\u001B[0m \u001B[0;32mfrom\u001B[0m \u001B[0mIPython\u001B[0m\u001B[0;34m.\u001B[0m\u001B[0mcore\u001B[0m\u001B[0;34m.\u001B[0m\u001B[0minteractiveshell\u001B[0m \u001B[0;32mimport\u001B[0m \u001B[0mInteractiveShell\u001B[0m\u001B[0;34m\u001B[0m\u001B[0;34m\u001B[0m\u001B[0m\n",
      "\u001B[0;31mModuleNotFoundError\u001B[0m: No module named 'sub_func'"
     ]
    }
   ],
   "source": [
    "import requests\n",
    "from bs4 import BeautifulSoup\n",
    "import re\n",
    "import json\n",
    "import xml.etree.ElementTree as ET\n",
    "from multiprocessing import Pool\n",
    "import sub_func\n",
    "\n",
    "from IPython.core.interactiveshell import InteractiveShell\n",
    "InteractiveShell.ast_node_interactivity = \"all\""
   ]
  },
  {
   "cell_type": "markdown",
   "metadata": {},
   "source": [
    "Ecrire une fonction `get_prices_from_url()` qui extrait des informations à partir des 2 pages ci-dessous.\n",
    "\n",
    "Exemple `URL_PAGE2` doit retourner :\n",
    "\n",
    "<pre>{'Personal': {'price': '$5', 'storage': '1GB', 'databases': 1},\n",
    "  'Small Business': {'price': '$25', 'storage': '10GB', 'databases': 5},\n",
    "  'Enterprise': {'price': '$45', 'storage': '100GB', 'databases': 25}}\n",
    "</pre>"
   ]
  },
  {
   "cell_type": "code",
   "execution_count": 2,
   "metadata": {},
   "outputs": [],
   "source": [
    "URL_PAGE2 = \"https://kim.fspot.org/cours/page2.html\"\n",
    "URL_PAGE3 = \"https://kim.fspot.org/cours/page3.html\"\n",
    "\n",
    "def get_prices_from_url(url):\n",
    "    r =requests.get(url)\n",
    "    soup = BeautifulSoup(r.content)\n",
    "    parts = soup.find_all('div',{'class' : re.compile(\"pricing-table pricing-table-\")})\n",
    "    prices = {}\n",
    "    for part in parts:\n",
    "        contract_type = part.findChild(\"h2\").text\n",
    "        details = {\n",
    "            'price'     : '$'+re.findall(r'\\d+', part.findChild(\"span\").text)[0],\n",
    "            'storage'   :  part.findChild(\"ul\").text.split('\\n')[4].replace(\" file storage\",\"\"),\n",
    "            'databases' : int(re.findall(r'\\d+',part.findChild(\"ul\").text.split('\\n')[5])[0])\n",
    "        }\n",
    "        print(details)\n",
    "        prices[contract_type] = details\n",
    "    return prices"
   ]
  },
  {
   "cell_type": "code",
   "execution_count": 3,
   "outputs": [
    {
     "name": "stdout",
     "output_type": "stream",
     "text": [
      "{'price': '$5', 'storage': '1GB', 'databases': 1}\n",
      "{'price': '$25', 'storage': '10GB', 'databases': 5}\n",
      "{'price': '$45', 'storage': '100GB', 'databases': 25}\n"
     ]
    },
    {
     "data": {
      "text/plain": "{'Personal': {'price': '$5', 'storage': '1GB', 'databases': 1},\n 'Small Business': {'price': '$25', 'storage': '10GB', 'databases': 5},\n 'Enterprise': {'price': '$45', 'storage': '100GB', 'databases': 25}}"
     },
     "execution_count": 3,
     "metadata": {},
     "output_type": "execute_result"
    }
   ],
   "source": [
    "get_prices_from_url(\"https://kim.fspot.org/cours/page2.html\")\n"
   ],
   "metadata": {
    "collapsed": false,
    "pycharm": {
     "name": "#%%\n"
    }
   }
  },
  {
   "cell_type": "markdown",
   "metadata": {},
   "source": [
    "Ecrire une fonction qui extrait des informations sur une bière de beowulf.\n",
    "\n",
    "Exemple d'URL: https://www.beerwulf.com/fr-fr/p/bieres/melusine-bio.33 \n",
    "\n",
    "La fonction doit retourner :\n",
    "<pre>\n",
    "{'name': 'Mélusine Bio', 'note': 70, 'price': 38.99, 'volume': 33}\n",
    "</pre>"
   ]
  },
  {
   "cell_type": "code",
   "execution_count": 4,
   "metadata": {},
   "outputs": [],
   "source": [
    "def extract_beer_infos(url):\n",
    "    r =requests.get(url)\n",
    "    soup = BeautifulSoup(r.content)\n",
    "    infos = {\n",
    "        'name': soup.find('title').text.split(\"|\")[0].strip(),\n",
    "        'note': int(soup.find_all('div',{'class' : \"stars\"})[0][\"data-percent\"]),\n",
    "        'price': float(soup.find_all('div',{'class' : \"price-container\"})[0].find(\"span\").text.replace(\"€\",\"\").replace(\",\",\".\")),\n",
    "        'volume': int(soup.find_all('div',{'class' : \"product-subtext\"})[0].text.replace(\"\\n\",\"\").split(\"|\")[2].replace(\"cl\",\"\").strip())\n",
    "    }\n",
    "    return infos"
   ]
  },
  {
   "cell_type": "code",
   "execution_count": 5,
   "outputs": [
    {
     "data": {
      "text/plain": "{'name': 'Mélusine Bio', 'note': 70, 'price': 38.99, 'volume': 33}"
     },
     "execution_count": 5,
     "metadata": {},
     "output_type": "execute_result"
    }
   ],
   "source": [
    "extract_beer_infos('https://www.beerwulf.com/fr-fr/p/bieres/melusine-bio.33')"
   ],
   "metadata": {
    "collapsed": false,
    "pycharm": {
     "name": "#%%\n"
    }
   }
  },
  {
   "cell_type": "markdown",
   "metadata": {},
   "source": [
    "Cette URL retourne un JSON avec une liste de bières :"
   ]
  },
  {
   "cell_type": "code",
   "execution_count": 6,
   "metadata": {},
   "outputs": [],
   "source": [
    "URL_BEERLIST_FRANCE = \"https://www.beerwulf.com/fr-FR/api/search/searchProducts?country=France&container=Bouteille\""
   ]
  },
  {
   "cell_type": "markdown",
   "metadata": {},
   "source": [
    "Ecrire une fonction qui prend l'argument cet URL retourne les informations sur une liste de bière via l'API de beowulf.\n",
    "\n",
    "Cette fonction doit retourner la liste des informations obtenues par la fonction `extract_beer_infos()` définie ci-dessus.\n",
    "\n",
    "Chercher comment optimiser cette fonction en utilisant multiprocessing.Pool pour paralléliser les accès web.\n",
    "\n",
    "Exemple de retour :\n",
    "\n",
    "<pre>[{'name': 'Gallia East IPA', 'note': 80, 'price': 42.99, 'volume': 33},\n",
    "    {'name': 'La Lager Sans Gluten de Vézelay', 'note': 60, 'price': 38.99, 'volume': 25},\n",
    "    {'name': 'Brasserie De Sutter Brin de Folie', 'note': 70, 'price': 44.99, 'volume': 33},\n",
    "    {'name': 'La Cristal IPA du Mont Blanc', 'note': 70, 'price': 44.99, 'volume': 33},\n",
    "    {'name': 'Mélusine Bio', 'note': 70, 'price': 38.99, 'volume': 33},\n",
    "    {'name': 'La Parisienne Le Titi Parisien', 'note': 70, 'price': 38.99, 'volume': 33},\n",
    "    {'name': 'Gallia Session IPA', 'note': 70, 'price': 42.99, 'volume': 33},\n",
    "    {'name': 'Ninkasi Brut IPA', 'note': 70, 'price': 44.99, 'volume': 33},\n",
    "    {'name': 'Pietra', 'note': 60, 'price': 38.99, 'volume': 33},\n",
    "    {'name': 'Desperados', 'note': 60, 'price': 35.99, 'volume': 33},\n",
    "    {'name': 'Gallia West IPA', 'note': 70, 'price': 42.99, 'volume': 33}]\n",
    "</pre>"
   ]
  },
  {
   "cell_type": "code",
   "execution_count": 7,
   "metadata": {},
   "outputs": [],
   "source": [
    "def extract_beer_list_infos(url):\n",
    "    r =requests.get(URL_BEERLIST_FRANCE)\n",
    "    soup = BeautifulSoup(r.content)\n",
    "    parsed =json.loads(soup.find_all(\"p\")[0].text)\n",
    "    items = parsed['items']\n",
    "    beer_pages = []\n",
    "    for i in range(0, len(items)):\n",
    "        beer_pages.append('https://www.beerwulf.com'+items[i]['contentReference'])\n",
    "\n",
    "    beers = []\n",
    "    # Sequential version (slow):\n",
    "    for beer in beer_pages:\n",
    "       beers.append(extract_beer_infos(beer))\n",
    "    # Parallel version (faster):\n",
    "    # with Pool(1) as p:\n",
    "    #     beers = p.map(extract_beer_infos, beer_pages)\n",
    "    return beers"
   ]
  },
  {
   "cell_type": "code",
   "execution_count": 8,
   "outputs": [
    {
     "data": {
      "text/plain": "[{'name': 'Gallia East IPA', 'note': 80, 'price': 42.99, 'volume': 33},\n {'name': 'La Lager Sans Gluten de Vézelay',\n  'note': 60,\n  'price': 38.99,\n  'volume': 25},\n {'name': 'Brasserie De Sutter Brin de Folie',\n  'note': 70,\n  'price': 44.99,\n  'volume': 33},\n {'name': 'La Cristal IPA du Mont Blanc',\n  'note': 70,\n  'price': 44.99,\n  'volume': 33},\n {'name': 'Mélusine Bio', 'note': 70, 'price': 38.99, 'volume': 33},\n {'name': 'La Parisienne Le Titi Parisien',\n  'note': 70,\n  'price': 38.99,\n  'volume': 33},\n {'name': 'Gallia Session IPA', 'note': 70, 'price': 42.99, 'volume': 33},\n {'name': 'Ninkasi Brut IPA', 'note': 70, 'price': 44.99, 'volume': 33},\n {'name': 'Pietra', 'note': 60, 'price': 38.99, 'volume': 33},\n {'name': 'Desperados', 'note': 60, 'price': 35.99, 'volume': 33},\n {'name': 'Gallia West IPA', 'note': 70, 'price': 42.99, 'volume': 33}]"
     },
     "execution_count": 8,
     "metadata": {},
     "output_type": "execute_result"
    }
   ],
   "source": [
    "extract_beer_list_infos(URL_BEERLIST_FRANCE)\n"
   ],
   "metadata": {
    "collapsed": false,
    "pycharm": {
     "name": "#%%\n"
    }
   }
  },
  {
   "cell_type": "code",
   "execution_count": 9,
   "outputs": [
    {
     "data": {
      "text/plain": "{'name': 'La Cristal IPA du Mont Blanc',\n 'note': 70,\n 'price': 44.99,\n 'volume': 33}"
     },
     "execution_count": 9,
     "metadata": {},
     "output_type": "execute_result"
    }
   ],
   "source": [
    "r =requests.get(URL_BEERLIST_FRANCE)\n",
    "soup = BeautifulSoup(r.content)\n",
    "parsed =json.loads(soup.find_all(\"p\")[0].text)\n",
    "items = parsed['items']\n",
    "cont = items[3]['contentReference']\n",
    "r =requests.get('https://www.beerwulf.com'+cont)\n",
    "extract_beer_infos('https://www.beerwulf.com'+cont)\n"
   ],
   "metadata": {
    "collapsed": false,
    "pycharm": {
     "name": "#%%\n"
    }
   }
  },
  {
   "cell_type": "code",
   "execution_count": 10,
   "metadata": {},
   "outputs": [],
   "source": [
    "import unittest\n",
    "\n",
    "class Lesson4Tests(unittest.TestCase):\n",
    "    def test_01_get_prices_from_url_page2(self):\n",
    "        prices = get_prices_from_url(URL_PAGE2)\n",
    "        # We should have found 3 products:\n",
    "        self.assertIsInstance(prices, dict)\n",
    "        self.assertEqual(len(prices), 3)\n",
    "        self.assertIn('Personal', prices)\n",
    "        self.assertIn('Small Business', prices)\n",
    "        self.assertIn('Enterprise', prices)\n",
    "        \n",
    "        personal = prices['Personal']\n",
    "        self.assertIn('price', personal)\n",
    "        self.assertIn('storage', personal)\n",
    "        self.assertIn('databases', personal)\n",
    "        self.assertEqual(personal['price'], '$5')\n",
    "        self.assertEqual(personal['storage'], '1GB')\n",
    "        self.assertEqual(personal['databases'], 1)\n",
    "        \n",
    "    def test_02_get_prices_from_url_page3(self):\n",
    "        prices = get_prices_from_url(URL_PAGE3)\n",
    "        self.assertIsInstance(prices, dict)\n",
    "        self.assertEqual(len(prices), 4)\n",
    "        self.assertEqual(\n",
    "            prices['Privilege'],\n",
    "            {'databases': 100, 'price': '$99', 'storage': '1TB'}\n",
    "        )\n",
    "    \n",
    "    def test_03_extract_beer_list_infos(self):\n",
    "        infos = extract_beer_list_infos(URL_BEERLIST_FRANCE)\n",
    "        # We should have 11 French beers:\n",
    "        self.assertIsInstance(infos, list)\n",
    "        self.assertEqual(len(infos), 11)\n",
    "        # All of them are 25cl or 33cl:\n",
    "        for beer in infos:\n",
    "            self.assertIn(beer['volume'], [25, 33])\n",
    "\n",
    "            \n",
    "def run_tests():\n",
    "    test_suite = unittest.makeSuite(Lesson4Tests)\n",
    "    runner = unittest.TextTestRunner(verbosity=2)\n",
    "    runner.run(test_suite)"
   ]
  },
  {
   "cell_type": "code",
   "execution_count": 11,
   "metadata": {
    "pycharm": {
     "name": "#%%\n"
    }
   },
   "outputs": [
    {
     "name": "stderr",
     "output_type": "stream",
     "text": [
      "test_01_get_prices_from_url_page2 (__main__.Lesson4Tests) ... ok\n",
      "test_02_get_prices_from_url_page3 (__main__.Lesson4Tests) ... ok\n",
      "test_03_extract_beer_list_infos (__main__.Lesson4Tests) ... ok\n",
      "\n",
      "----------------------------------------------------------------------\n",
      "Ran 3 tests in 3.130s\n",
      "\n",
      "OK\n"
     ]
    },
    {
     "name": "stdout",
     "output_type": "stream",
     "text": [
      "{'price': '$5', 'storage': '1GB', 'databases': 1}\n",
      "{'price': '$25', 'storage': '10GB', 'databases': 5}\n",
      "{'price': '$45', 'storage': '100GB', 'databases': 25}\n",
      "{'price': '$5', 'storage': '1GB', 'databases': 1}\n",
      "{'price': '$25', 'storage': '10GB', 'databases': 5}\n",
      "{'price': '$45', 'storage': '100GB', 'databases': 25}\n",
      "{'price': '$99', 'storage': '1TB', 'databases': 100}\n"
     ]
    }
   ],
   "source": [
    "if __name__ == '__main__':\n",
    "    run_tests()"
   ]
  }
 ],
 "metadata": {
  "kernelspec": {
   "display_name": "Python 3",
   "language": "python",
   "name": "python3"
  },
  "language_info": {
   "codemirror_mode": {
    "name": "ipython",
    "version": 3
   },
   "file_extension": ".py",
   "mimetype": "text/x-python",
   "name": "python",
   "nbconvert_exporter": "python",
   "pygments_lexer": "ipython3",
   "version": "3.8.10"
  }
 },
 "nbformat": 4,
 "nbformat_minor": 4
}