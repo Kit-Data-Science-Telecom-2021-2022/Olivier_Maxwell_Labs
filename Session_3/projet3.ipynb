{
 "cells": [
  {
   "cell_type": "markdown",
   "metadata": {},
   "source": [
    "# Projet maison n° 3"
   ]
  },
  {
   "cell_type": "code",
   "execution_count": 9,
   "metadata": {},
   "outputs": [],
   "source": [
    "# imports\n",
    "import pandas as pd\n",
    "import os\n",
    "import sys\n",
    "from IPython.core.interactiveshell import InteractiveShell\n",
    "InteractiveShell.ast_node_interactivity = \"all\"\n",
    "from progress_bar import start_loading,update_Loader,finish_loader,sleep"
   ]
  },
  {
   "cell_type": "markdown",
   "metadata": {},
   "source": [
    "## 1. US baby names\n",
    "\n",
    "On va s'intéresser au dataset **National data** de la SSA : https://www.ssa.gov/oact/babynames/limits.html\n",
    "\n",
    "1. Télécharger le dataset des prénoms US : https://www.ssa.gov/oact/babynames/names.zip\n",
    "\n",
    "Lire la documentation associée.\n",
    "\n",
    "2. Implémenter une fonction Python qui produit un unique DataFrame avec tous les fichiers en utilisant pandas (par ex. fonction \"concat\" ou méthode \"append\"), pas de bash :)\n",
    "\n",
    "Ordre et noms des colonnes : 'year', 'name', 'gender', 'births'\n",
    "\n",
    "Le DataFrame doit être trié selon l'année croissante puis selon l'ordre défini par les différents fichiers (voir la documentation du dataset).\n"
   ]
  },
  {
   "cell_type": "code",
   "execution_count": 10,
   "metadata": {},
   "outputs": [],
   "source": [
    "# names us\n",
    "def df_names_us():\n",
    "    if os.path.isfile('us_name_df_orig.pickle'):\n",
    "        return pd.read_pickle('us_name_df_orig.pickle')\n",
    "\n",
    "    dir_list = os.listdir('names/')\n",
    "    frames =[]\n",
    "    start_loading(f\"Load files from names/\")\n",
    "    for idx,txt_dir in enumerate(dir_list):\n",
    "\n",
    "        if not txt_dir.endswith('.txt'):\n",
    "            #print(f'WARNING file {txt_dir} nearly caused havock!!!!!')\n",
    "            #print('You bloody lucky i caught it, thank me later')\n",
    "            continue\n",
    "\n",
    "        temp_df = pd.read_csv(f'names/{txt_dir}',names = ['name', 'gender', 'births'])\n",
    "        temp_df.insert(0,'Year',txt_dir.replace('.txt','').replace('yob',''))\n",
    "\n",
    "        frames.append(temp_df)\n",
    "\n",
    "        #print(f'{idx}/{ len(dir_list)} input :{txt_dir}')\n",
    "\n",
    "        us_name_df = pd.concat(frames, axis=0)\n",
    "        us_name_df.to_pickle('us_name_df_orig.pickle')\n",
    "        update_Loader(f\"Load files from names/\",int(idx/3),int(len(dir_list)/3))\n",
    "        #print(f'{idx}/{ len(dir_list)} input :{txt_dir}')\n",
    "    finish_loader(f\"Load files from names/\")\n",
    "    return us_name_df"
   ]
  },
  {
   "cell_type": "code",
   "execution_count": 11,
   "outputs": [],
   "source": [
    "us_baby_names_df = df_names_us()\n"
   ],
   "metadata": {
    "collapsed": false,
    "pycharm": {
     "name": "#%%\n"
    }
   }
  },
  {
   "cell_type": "markdown",
   "metadata": {},
   "source": [
    "## 2. Prénoms français"
   ]
  },
  {
   "cell_type": "markdown",
   "metadata": {},
   "source": [
    "On va s'intéresser au dataset **Fichiers France hors Mayotte** de l'INSEE :  https://www.insee.fr/fr/statistiques/2540004/\n",
    "\n",
    "L'idée est de charger les données et ensuite de les conformer au DataFrame des prénoms US. Ainsi, toute manipulation sur le DataFrame des prénoms US pourra être directement réutilisée avec le DataFrame des prénoms français.\n",
    " \n",
    "1. Télécharger le dataset des prénoms français : https://www.insee.fr/fr/statistiques/fichier/2540004/nat2020_csv.zip\n",
    "\n",
    "\n",
    "Lire la documentation, ça peut être utile...\n",
    " \n",
    "2. Implémenter une fonction Python qui produit un DataFrame avec les prénoms français en prenant le DataFrame des prénoms US comme modèle :\n",
    " \n",
    " - Même ordre et mêmes noms des colonnes : year, name, gender, births\n",
    " - Mêmes dtypes pour les colonnes\n",
    " - Mêmes valeurs pour la colonne 'gender'\n",
    " - Seuls les prénoms de 2 caractères et plus sont conservés\n",
    " - La casse des prénoms doit être identique : initiales en majuscule, autres lettres en minuscule\n",
    " - Les lignes avec des données inutilisables doivent être supprimées\n",
    " - Les données sont triées à l'identique : années (↑), puis gender (↑), puis births (↓) et enfin name (↑)\n",
    " - L'index du DataFrame doit aller de 0 à N-1"
   ]
  },
  {
   "cell_type": "code",
   "execution_count": 12,
   "metadata": {},
   "outputs": [],
   "source": [
    "# names fr\n",
    "def df_names_fr():\n",
    "    french_name_dir = pd.read_csv(\"nat2020.csv\",sep=\";\", header=None,skiprows = 1,names=['gender','name','year','births'],dtype={'gender':'str','name':'str','births':'int'})\n",
    "    mapping_gender = {1:\"M\",2:\"F\"}\n",
    "    french_name_dir[\"gender\"]=french_name_dir[\"gender\"].map(mapping_gender)\n",
    "    french_name_dir.loc[french_name_dir['name'].isna().values ,'name'] = 'NA'\n",
    "    french_name_dir=french_name_dir[(french_name_dir['name']!=\"_PRENOMS_RARES\") & (df['name'].str.len()>1)]\n",
    "    french_name_dir=french_name_dir[french_name_dir['year']!=\"XXXX\"]\n",
    "    french_name_dir['year']=french_name_dir['year'].astype(int)\n",
    "    french_name_dir=french_name_dir[['year','name','gender','births']]\n",
    "    french_name_dir['name']=french_name_dir['name'].str.capitalize()\n",
    "    french_name_dir=french_name_dir.sort_values(['year','gender','births','name'],ascending=(True,True,False,True)).reset_index(drop=True)\n",
    "    return df"
   ]
  },
  {
   "cell_type": "markdown",
   "metadata": {},
   "source": [
    "## 3. Taux de change"
   ]
  },
  {
   "cell_type": "markdown",
   "metadata": {},
   "source": [
    "On va s'intéresser au dataset des cours des devises de la Banque de France :  http://webstat.banque-france.fr/fr/#/downloading\n",
    "\n",
    "L'idée est de charger les données, de les nettoyer et de pouvoir accéder aux cours de certaines devises à partir de leur code ISO3.\n",
    " \n",
    "1. Utiliser le dataset des taux de change fourni.\n",
    "\n",
    "\n",
    "2. Implémenter une fonction qui produit un DataFrame avec les taux de change par date pour une liste de codes ISO3 de devises passée en argument. L'index du DataFrame doit correspondre aux dates (voir la fonction pd.to_datetime() avec le format '%d/%m/%Y'). Les colonnes du DataFrame doivent correspondre aux devises."
   ]
  },
  {
   "cell_type": "code",
   "execution_count": 13,
   "metadata": {},
   "outputs": [],
   "source": [
    "# taux de change\n",
    "def df_taux_change(devises):\n",
    "    exchange_df = pd.read_csv('Webstat_Export_20210929.csv',sep=\";\",skiprows=[1,2,3,4,5],index_col='Titre :',na_values=['-',''])\n",
    "    exchange_df.index=pd.to_datetime(exchange_df.index,format='%d/%m/%Y')\n",
    "    df=exchange_df.rename_axis('Date')\n",
    "    df=df.replace(',','.',regex=True).astype(float)\n",
    "    df = pd.DataFrame(df[devises],columns=devises)\n",
    "    return df"
   ]
  },
  {
   "cell_type": "markdown",
   "metadata": {},
   "source": [
    "### Tests"
   ]
  },
  {
   "cell_type": "code",
   "execution_count": 14,
   "metadata": {},
   "outputs": [],
   "source": [
    "import unittest\n",
    "\n",
    "class Lesson4Tests(unittest.TestCase):\n",
    "    def test_df_names_us(self):\n",
    "        df = df_names_us()\n",
    "        # colonnes\n",
    "        self.assertEqual(list(df.columns), ['year', 'name', 'gender', 'births'])\n",
    "        # lignes\n",
    "        self.assertEqual(len(df), 2020863)\n",
    "        # index\n",
    "        self.assertTrue(isinstance(df.index, pd.core.indexes.range.RangeIndex))\n",
    "        # test NaN\n",
    "        self.assertTrue(df.loc[df.isnull().any(axis=1)].empty)\n",
    "        \n",
    "    def test_df_names_fr(self):\n",
    "        df = df_names_fr()\n",
    "        # colonnes\n",
    "        self.assertEqual(list(df.columns), ['year', 'name', 'gender', 'births'])\n",
    "        # lignes\n",
    "        self.assertEqual(len(df), 630407)\n",
    "        # index\n",
    "        self.assertTrue(isinstance(df.index, pd.core.indexes.range.RangeIndex))\n",
    "        # test names\n",
    "        self.assertTrue(df.loc[df['name'].str.contains('^[A-Z]+(?:-[A-Z]+)?$')].empty)\n",
    "        # test gender\n",
    "        self.assertEqual(len(df), len(df.loc[df['gender']=='F']) + len(df.loc[df['gender']=='M']))\n",
    "        # test NaN\n",
    "        self.assertTrue(df.loc[df.isnull().any(axis=1)].empty)\n",
    "\n",
    "    def test_df_taux_change(self):\n",
    "        df = df_taux_change(['CHF', 'GBP', 'USD'])\n",
    "        # colonnes\n",
    "        self.assertEqual(list(df.columns), ['CHF', 'GBP', 'USD'])\n",
    "        # index\n",
    "        self.assertTrue(isinstance(df.index, pd.core.indexes.datetimes.DatetimeIndex))\n",
    "        # types taux\n",
    "        self.assertTrue((df.dtypes == 'float').all())\n",
    "        # test NaN\n",
    "        self.assertTrue(df.loc[df.isnull().any(axis=1)].empty)\n"
   ]
  },
  {
   "cell_type": "code",
   "execution_count": 15,
   "metadata": {},
   "outputs": [],
   "source": [
    "# run tests\n",
    "def run_tests():\n",
    "    test_suite = unittest.makeSuite(Lesson4Tests)\n",
    "    runner = unittest.TextTestRunner(verbosity=2)\n",
    "    runner.run(test_suite)"
   ]
  },
  {
   "cell_type": "code",
   "execution_count": 16,
   "metadata": {},
   "outputs": [
    {
     "name": "stderr",
     "output_type": "stream",
     "text": [
      "test_df_names_fr (__main__.Lesson4Tests) ... ERROR\n",
      "test_df_names_us (__main__.Lesson4Tests) ... FAIL\n",
      "test_df_taux_change (__main__.Lesson4Tests) ... ERROR\n",
      "\n",
      "======================================================================\n",
      "ERROR: test_df_names_fr (__main__.Lesson4Tests)\n",
      "----------------------------------------------------------------------\n",
      "Traceback (most recent call last):\n",
      "  File \"/var/folders/9f/p0t58rcj5m19q_p7696wb52w0000gp/T/ipykernel_5571/2291148488.py\", line 16, in test_df_names_fr\n",
      "    df = df_names_fr()\n",
      "  File \"/var/folders/9f/p0t58rcj5m19q_p7696wb52w0000gp/T/ipykernel_5571/2767033264.py\", line 7, in df_names_fr\n",
      "    french_name_dir=french_name_dir[(french_name_dir['name']!=\"_PRENOMS_RARES\") & (df['name'].str.len()>1)]\n",
      "NameError: name 'df' is not defined\n",
      "\n",
      "======================================================================\n",
      "ERROR: test_df_taux_change (__main__.Lesson4Tests)\n",
      "----------------------------------------------------------------------\n",
      "Traceback (most recent call last):\n",
      "  File \"/var/folders/9f/p0t58rcj5m19q_p7696wb52w0000gp/T/ipykernel_5571/2291148488.py\", line 31, in test_df_taux_change\n",
      "    df = df_taux_change(['CHF', 'GBP', 'USD'])\n",
      "  File \"/var/folders/9f/p0t58rcj5m19q_p7696wb52w0000gp/T/ipykernel_5571/3003660744.py\", line 3, in df_taux_change\n",
      "    exchange_df = pd.read_csv('Webstat_Export_20210929.csv',sep=\";\",skiprows=[1,2,3,4,5],index_col='Titre :',na_values=['-',''])\n",
      "  File \"/Users/oliviermaxwell/PycharmProjects/TelecomParis/venv/lib/python3.9/site-packages/pandas/util/_decorators.py\", line 311, in wrapper\n",
      "    return func(*args, **kwargs)\n",
      "  File \"/Users/oliviermaxwell/PycharmProjects/TelecomParis/venv/lib/python3.9/site-packages/pandas/io/parsers/readers.py\", line 586, in read_csv\n",
      "    return _read(filepath_or_buffer, kwds)\n",
      "  File \"/Users/oliviermaxwell/PycharmProjects/TelecomParis/venv/lib/python3.9/site-packages/pandas/io/parsers/readers.py\", line 482, in _read\n",
      "    parser = TextFileReader(filepath_or_buffer, **kwds)\n",
      "  File \"/Users/oliviermaxwell/PycharmProjects/TelecomParis/venv/lib/python3.9/site-packages/pandas/io/parsers/readers.py\", line 811, in __init__\n",
      "    self._engine = self._make_engine(self.engine)\n",
      "  File \"/Users/oliviermaxwell/PycharmProjects/TelecomParis/venv/lib/python3.9/site-packages/pandas/io/parsers/readers.py\", line 1040, in _make_engine\n",
      "    return mapping[engine](self.f, **self.options)  # type: ignore[call-arg]\n",
      "  File \"/Users/oliviermaxwell/PycharmProjects/TelecomParis/venv/lib/python3.9/site-packages/pandas/io/parsers/c_parser_wrapper.py\", line 51, in __init__\n",
      "    self._open_handles(src, kwds)\n",
      "  File \"/Users/oliviermaxwell/PycharmProjects/TelecomParis/venv/lib/python3.9/site-packages/pandas/io/parsers/base_parser.py\", line 222, in _open_handles\n",
      "    self.handles = get_handle(\n",
      "  File \"/Users/oliviermaxwell/PycharmProjects/TelecomParis/venv/lib/python3.9/site-packages/pandas/io/common.py\", line 702, in get_handle\n",
      "    handle = open(\n",
      "FileNotFoundError: [Errno 2] No such file or directory: 'Webstat_Export_20210929.csv'\n",
      "\n",
      "======================================================================\n",
      "FAIL: test_df_names_us (__main__.Lesson4Tests)\n",
      "----------------------------------------------------------------------\n",
      "Traceback (most recent call last):\n",
      "  File \"/var/folders/9f/p0t58rcj5m19q_p7696wb52w0000gp/T/ipykernel_5571/2291148488.py\", line 7, in test_df_names_us\n",
      "    self.assertEqual(list(df.columns), ['year', 'name', 'gender', 'births'])\n",
      "AssertionError: Lists differ: ['Year', 'name', 'gender', 'births'] != ['year', 'name', 'gender', 'births']\n",
      "\n",
      "First differing element 0:\n",
      "'Year'\n",
      "'year'\n",
      "\n",
      "- ['Year', 'name', 'gender', 'births']\n",
      "?   ^\n",
      "\n",
      "+ ['year', 'name', 'gender', 'births']\n",
      "?   ^\n",
      "\n",
      "\n",
      "----------------------------------------------------------------------\n",
      "Ran 3 tests in 1.195s\n",
      "\n",
      "FAILED (failures=1, errors=2)\n"
     ]
    }
   ],
   "source": [
    "# run tests\n",
    "\n",
    "run_tests()"
   ]
  },
  {
   "cell_type": "code",
   "execution_count": 16,
   "outputs": [],
   "source": [],
   "metadata": {
    "collapsed": false,
    "pycharm": {
     "name": "#%%\n"
    }
   }
  }
 ],
 "metadata": {
  "kernelspec": {
   "display_name": "Python 3",
   "language": "python",
   "name": "python3"
  },
  "language_info": {
   "codemirror_mode": {
    "name": "ipython",
    "version": 3
   },
   "file_extension": ".py",
   "mimetype": "text/x-python",
   "name": "python",
   "nbconvert_exporter": "python",
   "pygments_lexer": "ipython3",
   "version": "3.8.10"
  }
 },
 "nbformat": 4,
 "nbformat_minor": 4
}